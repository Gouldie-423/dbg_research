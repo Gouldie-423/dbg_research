{
 "cells": [
  {
   "cell_type": "code",
   "execution_count": 1,
   "id": "4ee905f0",
   "metadata": {},
   "outputs": [],
   "source": [
    "import numpy as np\n",
    "import pandas as pd\n",
    "from numpy import load\n",
    "import torch\n",
    "import torch.nn as nn\n",
    "from torch.utils.data import TensorDataset, DataLoader, IterableDataset\n"
   ]
  },
  {
   "cell_type": "code",
   "execution_count": 2,
   "id": "92d141ac",
   "metadata": {},
   "outputs": [],
   "source": [
    "#BCE Loss Test\n",
    "\n",
    "x = torch.rand(1,10,dtype = float,requires_grad = True)\n",
    "m = torch.rand(1,10,dtype = float)\n",
    "y = torch.randint(2,(1,10),dtype = float)\n",
    "z = x+m\n",
    "g = nn.Sigmoid()\n",
    "\n",
    "k = g(z)\n",
    "\n",
    "loss = nn.BCELoss()\n",
    "output = loss(k,y)\n",
    "\n",
    "output.backward()\n"
   ]
  },
  {
   "cell_type": "markdown",
   "id": "40f3fa81",
   "metadata": {},
   "source": [
    "Loading Data"
   ]
  },
  {
   "cell_type": "code",
   "execution_count": 3,
   "id": "f9a18c9e",
   "metadata": {},
   "outputs": [],
   "source": [
    "vanilla_data = '/Users/timothygould/dbg_research/research/training_data/vanilla_data/'\n",
    "standard_norm = '/Users/timothygould/dbg_research/research/training_data/standard_norm/'\n",
    "zero_to_one = '/Users/timothygould/dbg_research/research/training_data/zero_to_one_norm/'\n",
    "\n",
    "\n",
    "def load_data(path):\n",
    "    train_x=np.load(f'{path}train_x.npy',allow_pickle=True,fix_imports=True,encoding='latin1')\n",
    "    train_y=np.load(f'{path}train_y.npy',allow_pickle=True,fix_imports=True,encoding='latin1')\n",
    "    test_x=np.load(f'{path}test_x.npy',allow_pickle=True,fix_imports=True,encoding='latin1')\n",
    "    test_y=np.load(f'{path}test_y.npy',allow_pickle=True,fix_imports=True,encoding='latin1')\n",
    "\n",
    "    return train_x,train_y,test_x,test_y"
   ]
  },
  {
   "cell_type": "code",
   "execution_count": 4,
   "id": "3b348d48",
   "metadata": {},
   "outputs": [],
   "source": [
    "train_x,train_y,test_x,test_y = load_data(standard_norm)\n",
    "train_x = torch.from_numpy(train_x)\n",
    "train_y = torch.from_numpy(train_y)\n",
    "test_x = torch.from_numpy(test_x)\n",
    "test_y = torch.from_numpy(test_y)"
   ]
  },
  {
   "cell_type": "markdown",
   "id": "e835667a",
   "metadata": {},
   "source": [
    "Creating Basic RNN Model"
   ]
  },
  {
   "cell_type": "code",
   "execution_count": 5,
   "id": "cb26e192",
   "metadata": {},
   "outputs": [],
   "source": [
    "#Hyper Parameters\n",
    "\n",
    "input_size = train_x.shape[0]\n",
    "sequence_length = train_x.shape[2]\n",
    "hidden_size = 24\n",
    "num_classes = 2\n",
    "num_epochs = 2\n",
    "num_layers = 2\n",
    "batch_size = train_x.shape[1]\n",
    "learning_rate = 0.01\n",
    "layers_dims = {'rnn':[hidden_size,hidden_size],'ff':[hidden_size,3,1]}"
   ]
  },
  {
   "cell_type": "code",
   "execution_count": 6,
   "id": "662c5ab9",
   "metadata": {},
   "outputs": [],
   "source": [
    "class model:\n",
    "    \n",
    "    def __init__(self,learning_rate,train_data,test_data,num_epochs,layers_dims):\n",
    "        self.learning_rate = learning_rate\n",
    "        self.train_data = train_data\n",
    "        self.test_data = test_data\n",
    "        self.num_epochs = num_epochs\n",
    "        self.layers_dims = layers_dims\n",
    "        "
   ]
  },
  {
   "cell_type": "code",
   "execution_count": 7,
   "id": "43fb1784",
   "metadata": {},
   "outputs": [],
   "source": [
    "class model(model):\n",
    "    \n",
    "    def initialize_params(self):\n",
    "        nx = self.train_data.shape[0]\n",
    "        m = self.train_data.shape[1]\n",
    "        tx = self.train_data.shape[2]\n",
    "\n",
    "        self.ff_params = {}\n",
    "        self.rnn_params = {}\n",
    "        \n",
    "        \n",
    "        # RNN Params\n",
    "        for i in range(0,len(layers_dims['rnn'])):\n",
    "            self.rnn_params['a0'+str(i+1)] = torch.zeros(layers_dims['rnn'][0],m,dtype = float, requires_grad = True)\n",
    "            self.rnn_params['Waa'+str(i+1)] = torch.rand(layers_dims['rnn'][i],layers_dims['rnn'][i],dtype = float, requires_grad = True)\n",
    "            self.rnn_params['Wax'+str(i+1)] = torch.rand(layers_dims['rnn'][i],nx,dtype = float, requires_grad = True)\n",
    "            self.rnn_params['Wya'+str(i+1)] = torch.rand(2,layers_dims['rnn'][i],dtype = float, requires_grad = True)\n",
    "            self.rnn_params['ba'+str(i+1)] = torch.rand(layers_dims['rnn'][i],1,dtype = float, requires_grad = True)\n",
    "            self.rnn_params['by'+str(i+1)] = torch.rand(layers_dims['rnn'][i],1,dtype = float, requires_grad = True)\n",
    "        \n",
    "        #FF Params\n",
    "        for i in range(1,len(layers_dims['ff'])):\n",
    "            self.ff_params['W'+str(i)] = torch.rand(layers_dims['ff'][i],layers_dims['ff'][i-1],dtype = float,requires_grad = True)\n",
    "            self.ff_params['b'+str(i)] = torch.rand(layers_dims['ff'][i],1,dtype = float,requires_grad = True)\n",
    "      \n",
    "\n",
    "        return self.ff_params,self.rnn_params"
   ]
  },
  {
   "cell_type": "code",
   "execution_count": 8,
   "id": "f512101b",
   "metadata": {},
   "outputs": [
    {
     "name": "stdout",
     "output_type": "stream",
     "text": [
      "a01 torch.Size([24, 1910])\n",
      "Waa1 torch.Size([24, 24])\n",
      "Wax1 torch.Size([24, 24])\n",
      "Wya1 torch.Size([2, 24])\n",
      "ba1 torch.Size([24, 1])\n",
      "by1 torch.Size([24, 1])\n",
      "a02 torch.Size([24, 1910])\n",
      "Waa2 torch.Size([24, 24])\n",
      "Wax2 torch.Size([24, 24])\n",
      "Wya2 torch.Size([2, 24])\n",
      "ba2 torch.Size([24, 1])\n",
      "by2 torch.Size([24, 1])\n",
      "W1 torch.Size([3, 24])\n",
      "b1 torch.Size([3, 1])\n",
      "W2 torch.Size([1, 3])\n",
      "b2 torch.Size([1, 1])\n"
     ]
    }
   ],
   "source": [
    "test = model(learning_rate,train_x,train_y,num_epochs,layers_dims)\n",
    "ff_params,rnn_params = test.initialize_params()\n",
    "for k,v in rnn_params.items():\n",
    "    print(k,v.shape)\n",
    "for k,v in ff_params.items():\n",
    "    print(k,v.shape)"
   ]
  },
  {
   "cell_type": "code",
   "execution_count": 9,
   "id": "07ab76d3",
   "metadata": {},
   "outputs": [],
   "source": [
    "class model(model):\n",
    "    def ff_forward(self,a):\n",
    "        \n",
    "        for i in range(1,len(layers_dims['ff'])-1):\n",
    "            w = ff_params['W'+str(i)]\n",
    "            b = ff_params['b'+str(i)]\n",
    "            #a value needs to be inherited from rnn cell output\n",
    "            z = torch.matmul(w,a)+b\n",
    "            a_next = torch.tanh(z)\n",
    "        \n",
    "        w = ff_params['W'+str(len(layers_dims['ff'])-1)]\n",
    "        b = ff_params['b'+str(len(layers_dims['ff'])-1)]\n",
    "        z = torch.matmul(w,a_next)+b\n",
    "        y_pred = torch.sigmoid(z)\n",
    "        \n",
    "        return y_pred\n",
    "\n",
    "        "
   ]
  },
  {
   "cell_type": "code",
   "execution_count": 10,
   "id": "91486df2",
   "metadata": {},
   "outputs": [
    {
     "data": {
      "text/plain": [
       "tensor([[0.8270, 0.8270, 0.8270, 0.8270, 0.8270, 0.8270, 0.8270, 0.8270, 0.8270,\n",
       "         0.8270]], dtype=torch.float64, grad_fn=<SigmoidBackward>)"
      ]
     },
     "execution_count": 10,
     "metadata": {},
     "output_type": "execute_result"
    }
   ],
   "source": [
    "test = model(learning_rate,train_x,train_y,num_epochs,layers_dims)\n",
    "ff_params,rnn_params = test.initialize_params()\n",
    "a = torch.rand(24,10,dtype = float)\n",
    "\n",
    "\n",
    "test.ff_forward(a)"
   ]
  },
  {
   "cell_type": "code",
   "execution_count": 11,
   "id": "46a5547c",
   "metadata": {},
   "outputs": [],
   "source": [
    "class model(model):\n",
    "    \n",
    "    def rnn_cell_forward(self,layer,a_prev,xt):\n",
    "        Wax = rnn_params['Wax'+str(layer)]\n",
    "        Waa = rnn_params['Waa'+str(layer)]\n",
    "        ba = rnn_params['ba'+str(layer)]\n",
    "        z = torch.matmul(Wax,xt)+torch.matmul(Waa,a_prev)+ba\n",
    "        a_next = torch.tanh(z)\n",
    "        \n",
    "        return a_next"
   ]
  },
  {
   "cell_type": "code",
   "execution_count": 12,
   "id": "bc896f3e",
   "metadata": {},
   "outputs": [
    {
     "data": {
      "text/plain": [
       "tensor([[1., 1., 1.,  ..., 1., 1., 1.],\n",
       "        [1., 1., 1.,  ..., 1., 1., 1.],\n",
       "        [1., 1., 1.,  ..., 1., 1., 1.],\n",
       "        ...,\n",
       "        [1., 1., 1.,  ..., 1., 1., 1.],\n",
       "        [1., 1., 1.,  ..., 1., 1., 1.],\n",
       "        [1., 1., 1.,  ..., 1., 1., 1.]], dtype=torch.float64,\n",
       "       grad_fn=<TanhBackward>)"
      ]
     },
     "execution_count": 12,
     "metadata": {},
     "output_type": "execute_result"
    }
   ],
   "source": [
    "test = model(learning_rate,train_x,train_y,num_epochs,layers_dims)\n",
    "ff_params,rnn_params = test.initialize_params()\n",
    "xt = train_x[:,:,23]\n",
    "a_prev = rnn_params['a01']\n",
    "layer = 1\n",
    "test.rnn_cell_forward(layer,a_prev,xt)"
   ]
  },
  {
   "cell_type": "code",
   "execution_count": 13,
   "id": "97167736",
   "metadata": {},
   "outputs": [],
   "source": [
    "class model(model):\n",
    "    \n",
    "    def forward_pass(self):\n",
    "        \n",
    "        tx = self.train_data.shape[2]\n",
    "        \n",
    "        a_next1 = rnn_params['a01']\n",
    "        a_next2 = rnn_params['a02']\n",
    "        for xt in range(tx):\n",
    "            a_next1 =  self.rnn_cell_forward(1,a_next1,train_x[:,:,xt])\n",
    "            #Wax cannot be multipied by a_next1 for 2nd layer 24x24 * 10x1910\n",
    "            #solution, square matricies. Hidden layers matches nx\n",
    "           \n",
    "            a_next2 = self.rnn_cell_forward(2,a_next2,a_next1)\n",
    "            #return values for ff layers to run through\n",
    "        y_pred = self.ff_forward(a_next2)\n",
    "        print(y_pred)\n",
    "        \n",
    "        #return y_pred = ff prop (takes in 2nd a value as x val)"
   ]
  },
  {
   "cell_type": "code",
   "execution_count": 14,
   "id": "9023f562",
   "metadata": {},
   "outputs": [
    {
     "name": "stdout",
     "output_type": "stream",
     "text": [
      "tensor([[0.8595, 0.8595, 0.8595,  ..., 0.8595, 0.8595, 0.8595]],\n",
      "       dtype=torch.float64, grad_fn=<SigmoidBackward>)\n"
     ]
    }
   ],
   "source": [
    "test = model(learning_rate,train_x,train_y,num_epochs,layers_dims)\n",
    "ff_params,rnn_params = test.initialize_params()\n",
    "test.forward_pass()\n",
    "\n",
    "\n"
   ]
  },
  {
   "cell_type": "code",
   "execution_count": 15,
   "id": "42c8b129",
   "metadata": {},
   "outputs": [
    {
     "name": "stdout",
     "output_type": "stream",
     "text": [
      "tensor([[0.6617, 0.8583, 0.5399],\n",
      "        [0.5895, 0.2362, 0.7209],\n",
      "        [0.1688, 0.6818, 0.2093],\n",
      "        [0.4963, 0.0295, 0.4085],\n",
      "        [0.8645, 0.3089, 0.0037]])\n"
     ]
    }
   ],
   "source": [
    "w = torch.rand(5,3)\n",
    "print(w)"
   ]
  },
  {
   "cell_type": "code",
   "execution_count": 16,
   "id": "fd70a3af",
   "metadata": {},
   "outputs": [
    {
     "name": "stdout",
     "output_type": "stream",
     "text": [
      "tensor([[-0.1958, -0.6999, -0.6758],\n",
      "        [-0.2806,  0.0663,  0.2656],\n",
      "        [ 0.0913,  0.8392, -0.2629],\n",
      "        [ 0.6365,  0.4442, -0.0616],\n",
      "        [-0.7582, -0.6125,  0.0127]])\n"
     ]
    }
   ],
   "source": [
    "w = nn.init.xavier_uniform_(w)\n",
    "print(w)"
   ]
  },
  {
   "cell_type": "code",
   "execution_count": 17,
   "id": "7bc08fad",
   "metadata": {},
   "outputs": [
    {
     "name": "stdout",
     "output_type": "stream",
     "text": [
      "{'w1': tensor([[0.3690, 0.9683, 0.1984, 0.0346],\n",
      "        [0.6059, 0.5176, 0.3571, 0.1898],\n",
      "        [0.7104, 0.8080, 0.0606, 0.0025]]), 'w2': tensor([[0.1032, 0.3839, 0.2785, 0.4110, 0.1807],\n",
      "        [0.4923, 0.4766, 0.8673, 0.7866, 0.4902],\n",
      "        [0.1007, 0.7066, 0.5317, 0.7809, 0.3630],\n",
      "        [0.8532, 0.2582, 0.1775, 0.3671, 0.7415],\n",
      "        [0.3854, 0.1012, 0.6335, 0.9569, 0.1947],\n",
      "        [0.5166, 0.3500, 0.3804, 0.1501, 0.5376],\n",
      "        [0.4291, 0.3722, 0.6094, 0.7486, 0.9551],\n",
      "        [0.9925, 0.3083, 0.6009, 0.7095, 0.3328]])}\n"
     ]
    }
   ],
   "source": [
    "params = {'w1':torch.rand(3,4),'w2':torch.rand(8,5)}\n",
    "print(params)"
   ]
  },
  {
   "cell_type": "code",
   "execution_count": 18,
   "id": "312b2ef9",
   "metadata": {},
   "outputs": [],
   "source": [
    "params['w1'] = nn.init.xavier_uniform_(params['w1'])"
   ]
  },
  {
   "cell_type": "code",
   "execution_count": 19,
   "id": "1974e708",
   "metadata": {},
   "outputs": [
    {
     "name": "stdout",
     "output_type": "stream",
     "text": [
      "{'w1': tensor([[-0.1226,  0.6069, -0.5839, -0.8623],\n",
      "        [ 0.3407, -0.3578, -0.0026, -0.0108],\n",
      "        [-0.2402,  0.7456, -0.5165,  0.2802]]), 'w2': tensor([[0.1032, 0.3839, 0.2785, 0.4110, 0.1807],\n",
      "        [0.4923, 0.4766, 0.8673, 0.7866, 0.4902],\n",
      "        [0.1007, 0.7066, 0.5317, 0.7809, 0.3630],\n",
      "        [0.8532, 0.2582, 0.1775, 0.3671, 0.7415],\n",
      "        [0.3854, 0.1012, 0.6335, 0.9569, 0.1947],\n",
      "        [0.5166, 0.3500, 0.3804, 0.1501, 0.5376],\n",
      "        [0.4291, 0.3722, 0.6094, 0.7486, 0.9551],\n",
      "        [0.9925, 0.3083, 0.6009, 0.7095, 0.3328]])}\n"
     ]
    }
   ],
   "source": [
    "print(params)"
   ]
  },
  {
   "cell_type": "code",
   "execution_count": 20,
   "id": "f39a6c79",
   "metadata": {},
   "outputs": [
    {
     "name": "stdout",
     "output_type": "stream",
     "text": [
      "tensor([[-0.1226,  0.6069, -0.5839, -0.8623],\n",
      "        [ 0.3407, -0.3578, -0.0026, -0.0108],\n",
      "        [-0.2402,  0.7456, -0.5165,  0.2802]]) torch.Size([3, 4])\n",
      "tensor([[-0.6397, -0.8053, -0.8411,  0.6172],\n",
      "        [-0.4306, -0.6480,  0.2200, -0.9221],\n",
      "        [ 0.2097,  0.6003, -0.7206, -0.6850]]) torch.Size([3, 4])\n",
      "tensor([[0.1032, 0.3839, 0.2785, 0.4110, 0.1807],\n",
      "        [0.4923, 0.4766, 0.8673, 0.7866, 0.4902],\n",
      "        [0.1007, 0.7066, 0.5317, 0.7809, 0.3630],\n",
      "        [0.8532, 0.2582, 0.1775, 0.3671, 0.7415],\n",
      "        [0.3854, 0.1012, 0.6335, 0.9569, 0.1947],\n",
      "        [0.5166, 0.3500, 0.3804, 0.1501, 0.5376],\n",
      "        [0.4291, 0.3722, 0.6094, 0.7486, 0.9551],\n",
      "        [0.9925, 0.3083, 0.6009, 0.7095, 0.3328]]) torch.Size([8, 5])\n",
      "tensor([[ 0.1893, -0.1658,  0.1485, -0.3645, -0.0988],\n",
      "        [ 0.1428,  0.0555, -0.0492,  0.3441, -0.2708],\n",
      "        [ 0.5632, -0.0669, -0.4925, -0.3118, -0.2814],\n",
      "        [ 0.2768,  0.6080, -0.1939, -0.4598,  0.2277],\n",
      "        [-0.2867,  0.2805, -0.6399,  0.4904,  0.1077],\n",
      "        [ 0.0935, -0.5999, -0.5821, -0.3153,  0.3070],\n",
      "        [-0.5977, -0.5609, -0.3375,  0.3752,  0.2510],\n",
      "        [ 0.2505,  0.1848, -0.2841,  0.6141, -0.5773]]) torch.Size([8, 5])\n"
     ]
    }
   ],
   "source": [
    "for k,v in params.items():\n",
    "    print(params[k],params[k].shape)\n",
    "    params[k] = nn.init.xavier_uniform_(params[k])\n",
    "    print(params[k],params[k].shape)"
   ]
  },
  {
   "cell_type": "markdown",
   "id": "446401d3",
   "metadata": {},
   "source": [
    "##### Experimenting with vectorized false positive and accuracy implementations"
   ]
  },
  {
   "cell_type": "code",
   "execution_count": 55,
   "id": "7cf71b00",
   "metadata": {},
   "outputs": [
    {
     "name": "stdout",
     "output_type": "stream",
     "text": [
      "tensor([[0., 0., 0., 1., 0., 1., 1., 0., 1., 0., 0., 0., 0., 0., 1., 1., 0., 0.,\n",
      "         1., 0., 1., 1., 1., 0.]])\n",
      "tensor([[0.9056, 0.4727, 0.6822, 0.1635, 0.8958, 0.7290, 0.2116, 0.5474, 0.9514,\n",
      "         0.4939, 0.1810, 0.1096, 0.9109, 0.8582, 0.4971, 0.3591, 0.7073, 0.1123,\n",
      "         0.4596, 0.0268, 0.3063, 0.5931, 0.8765, 0.3917]])\n",
      "<class 'torch.Tensor'>\n"
     ]
    }
   ],
   "source": [
    "y_pred = torch.rand(1,24)\n",
    "y = torch.rand(1,24)\n",
    "y = torch.bernoulli(y)\n",
    "print(y)\n",
    "print(y_pred)\n",
    "print(type(y_pred))"
   ]
  },
  {
   "cell_type": "code",
   "execution_count": 56,
   "id": "5318d95c",
   "metadata": {},
   "outputs": [
    {
     "name": "stdout",
     "output_type": "stream",
     "text": [
      "tensor([[0.9000, 0.5000, 0.7000, 0.2000, 0.9000, 0.7000, 0.2000, 0.5000, 1.0000,\n",
      "         0.5000, 0.2000, 0.1000, 0.9000, 0.9000, 0.5000, 0.4000, 0.7000, 0.1000,\n",
      "         0.5000, 0.0000, 0.3000, 0.6000, 0.9000, 0.4000]])\n",
      "tensor([[0, 0, 1, 0, 0, 1, 0, 0, 0, 0, 0, 0, 0, 0, 0, 0, 1, 0, 0, 0, 0, 0, 0, 0]])\n"
     ]
    }
   ],
   "source": [
    "print(np.round(y_pred,1))\n",
    "\n",
    "y_pred = torch.where(np.round(y_pred,1)==.7,1,0)\n",
    "print(y_pred)"
   ]
  },
  {
   "cell_type": "code",
   "execution_count": 61,
   "id": "03e6f278",
   "metadata": {},
   "outputs": [
    {
     "name": "stdout",
     "output_type": "stream",
     "text": [
      "[[0 0 1 0 0 0 0 0 0 0 0 0 0 0 0 0 1 0 0 0 0 0 0 0]]\n"
     ]
    }
   ],
   "source": [
    "#checking for false positive\n",
    "test = np.where((y==0) & (y_pred==1),1,0)\n",
    "print(test)"
   ]
  },
  {
   "cell_type": "code",
   "execution_count": 64,
   "id": "7c3c9a49",
   "metadata": {},
   "outputs": [
    {
     "name": "stdout",
     "output_type": "stream",
     "text": [
      "[0.08333333]\n"
     ]
    }
   ],
   "source": [
    "test2 = np.sum(test,axis=1)\n",
    "print(test2/24)"
   ]
  },
  {
   "cell_type": "code",
   "execution_count": 66,
   "id": "8b9e8b33",
   "metadata": {},
   "outputs": [
    {
     "name": "stdout",
     "output_type": "stream",
     "text": [
      "[[0 0 0 0 0 1 0 0 0 0 0 0 0 0 0 0 0 0 0 0 0 0 0 0]]\n"
     ]
    }
   ],
   "source": [
    "#checking for true positive\n",
    "test3 = np.where((y==1) & (y_pred ==1),1,0)\n",
    "print(test3)"
   ]
  },
  {
   "cell_type": "code",
   "execution_count": null,
   "id": "e7c98531",
   "metadata": {},
   "outputs": [],
   "source": []
  }
 ],
 "metadata": {
  "kernelspec": {
   "display_name": "Python 3",
   "language": "python",
   "name": "python3"
  },
  "language_info": {
   "codemirror_mode": {
    "name": "ipython",
    "version": 3
   },
   "file_extension": ".py",
   "mimetype": "text/x-python",
   "name": "python",
   "nbconvert_exporter": "python",
   "pygments_lexer": "ipython3",
   "version": "3.9.2"
  }
 },
 "nbformat": 4,
 "nbformat_minor": 5
}
