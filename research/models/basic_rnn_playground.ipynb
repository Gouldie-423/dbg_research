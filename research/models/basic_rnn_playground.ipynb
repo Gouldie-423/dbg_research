{
 "cells": [
  {
   "cell_type": "code",
   "execution_count": 5,
   "id": "4ee905f0",
   "metadata": {},
   "outputs": [],
   "source": [
    "import numpy as np\n",
    "import pandas as pd\n",
    "from numpy import load\n",
    "import torch\n",
    "import torch.nn as nn\n",
    "from torch.utils.data import TensorDataset, DataLoader, IterableDataset\n"
   ]
  },
  {
   "cell_type": "code",
   "execution_count": 6,
   "id": "92d141ac",
   "metadata": {},
   "outputs": [],
   "source": [
    "#BCE Loss Test\n",
    "\n",
    "x = torch.rand(1,10,dtype = float,requires_grad = True)\n",
    "m = torch.rand(1,10,dtype = float)\n",
    "y = torch.randint(2,(1,10),dtype = float)\n",
    "z = x+m\n",
    "g = nn.Sigmoid()\n",
    "\n",
    "k = g(z)\n",
    "\n",
    "loss = nn.BCELoss()\n",
    "output = loss(k,y)\n",
    "\n",
    "output.backward()\n"
   ]
  },
  {
   "cell_type": "markdown",
   "id": "40f3fa81",
   "metadata": {},
   "source": [
    "Loading Data"
   ]
  },
  {
   "cell_type": "code",
   "execution_count": 7,
   "id": "f9a18c9e",
   "metadata": {},
   "outputs": [],
   "source": [
    "vanilla_data = '/Users/timothygould/dbg_research/research/training_data/vanilla_data/'\n",
    "standard_norm = '/Users/timothygould/dbg_research/research/training_data/standard_norm/'\n",
    "zero_to_one = '/Users/timothygould/dbg_research/research/training_data/zero_to_one_norm/'\n",
    "\n",
    "\n",
    "def load_data(path):\n",
    "    train_x=np.load(f'{path}train_x.npy',allow_pickle=True,fix_imports=True,encoding='latin1')\n",
    "    train_y=np.load(f'{path}train_y.npy',allow_pickle=True,fix_imports=True,encoding='latin1')\n",
    "    test_x=np.load(f'{path}test_x.npy',allow_pickle=True,fix_imports=True,encoding='latin1')\n",
    "    test_y=np.load(f'{path}test_y.npy',allow_pickle=True,fix_imports=True,encoding='latin1')\n",
    "\n",
    "    return train_x,train_y,test_x,test_y"
   ]
  },
  {
   "cell_type": "code",
   "execution_count": 8,
   "id": "3b348d48",
   "metadata": {},
   "outputs": [],
   "source": [
    "train_x,train_y,test_x,test_y = load_data(standard_norm)\n",
    "train_x = torch.from_numpy(train_x)\n",
    "train_y = torch.from_numpy(train_y)\n",
    "test_x = torch.from_numpy(test_x)\n",
    "test_y = torch.from_numpy(test_y)"
   ]
  },
  {
   "cell_type": "markdown",
   "id": "e835667a",
   "metadata": {},
   "source": [
    "Creating Basic RNN Model"
   ]
  },
  {
   "cell_type": "code",
   "execution_count": 9,
   "id": "cb26e192",
   "metadata": {},
   "outputs": [],
   "source": [
    "#Hyper Parameters\n",
    "\n",
    "input_size = train_x.shape[0]\n",
    "sequence_length = train_x.shape[2]\n",
    "hidden_size = 24\n",
    "num_classes = 2\n",
    "num_epochs = 2\n",
    "num_layers = 2\n",
    "batch_size = train_x.shape[1]\n",
    "learning_rate = 0.01\n",
    "layers_dims = {'rnn':[hidden_size,hidden_size],'ff':[hidden_size,3,1]}"
   ]
  },
  {
   "cell_type": "code",
   "execution_count": 10,
   "id": "662c5ab9",
   "metadata": {},
   "outputs": [],
   "source": [
    "class model:\n",
    "    \n",
    "    def __init__(self,learning_rate,train_data,test_data,num_epochs,layers_dims):\n",
    "        self.learning_rate = learning_rate\n",
    "        self.train_data = train_data\n",
    "        self.test_data = test_data\n",
    "        self.num_epochs = num_epochs\n",
    "        self.layers_dims = layers_dims\n",
    "        "
   ]
  },
  {
   "cell_type": "code",
   "execution_count": 11,
   "id": "43fb1784",
   "metadata": {},
   "outputs": [],
   "source": [
    "class model(model):\n",
    "    \n",
    "    def initialize_params(self):\n",
    "        nx = self.train_data.shape[0]\n",
    "        m = self.train_data.shape[1]\n",
    "        tx = self.train_data.shape[2]\n",
    "\n",
    "        self.ff_params = {}\n",
    "        self.rnn_params = {}\n",
    "        \n",
    "        \n",
    "        # RNN Params\n",
    "        for i in range(0,len(layers_dims['rnn'])):\n",
    "            self.rnn_params['a0'+str(i+1)] = torch.zeros(layers_dims['rnn'][0],m,dtype = float, requires_grad = True)\n",
    "            self.rnn_params['Waa'+str(i+1)] = torch.rand(layers_dims['rnn'][i],layers_dims['rnn'][i],dtype = float, requires_grad = True)\n",
    "            self.rnn_params['Wax'+str(i+1)] = torch.rand(layers_dims['rnn'][i],nx,dtype = float, requires_grad = True)\n",
    "            self.rnn_params['Wya'+str(i+1)] = torch.rand(2,layers_dims['rnn'][i],dtype = float, requires_grad = True)\n",
    "            self.rnn_params['ba'+str(i+1)] = torch.rand(layers_dims['rnn'][i],1,dtype = float, requires_grad = True)\n",
    "            self.rnn_params['by'+str(i+1)] = torch.rand(layers_dims['rnn'][i],1,dtype = float, requires_grad = True)\n",
    "        \n",
    "        #FF Params\n",
    "        for i in range(1,len(layers_dims['ff'])):\n",
    "            self.ff_params['W'+str(i)] = torch.rand(layers_dims['ff'][i],layers_dims['ff'][i-1],dtype = float,requires_grad = True)\n",
    "            self.ff_params['b'+str(i)] = torch.rand(layers_dims['ff'][i],1,dtype = float,requires_grad = True)\n",
    "      \n",
    "\n",
    "        return self.ff_params,self.rnn_params"
   ]
  },
  {
   "cell_type": "code",
   "execution_count": 12,
   "id": "f512101b",
   "metadata": {},
   "outputs": [
    {
     "name": "stdout",
     "output_type": "stream",
     "text": [
      "a01 torch.Size([24, 1910])\n",
      "Waa1 torch.Size([24, 24])\n",
      "Wax1 torch.Size([24, 24])\n",
      "Wya1 torch.Size([2, 24])\n",
      "ba1 torch.Size([24, 1])\n",
      "by1 torch.Size([24, 1])\n",
      "a02 torch.Size([24, 1910])\n",
      "Waa2 torch.Size([24, 24])\n",
      "Wax2 torch.Size([24, 24])\n",
      "Wya2 torch.Size([2, 24])\n",
      "ba2 torch.Size([24, 1])\n",
      "by2 torch.Size([24, 1])\n",
      "W1 torch.Size([3, 24])\n",
      "b1 torch.Size([3, 1])\n",
      "W2 torch.Size([1, 3])\n",
      "b2 torch.Size([1, 1])\n"
     ]
    }
   ],
   "source": [
    "test = model(learning_rate,train_x,train_y,num_epochs,layers_dims)\n",
    "ff_params,rnn_params = test.initialize_params()\n",
    "for k,v in rnn_params.items():\n",
    "    print(k,v.shape)\n",
    "for k,v in ff_params.items():\n",
    "    print(k,v.shape)"
   ]
  },
  {
   "cell_type": "code",
   "execution_count": 13,
   "id": "07ab76d3",
   "metadata": {},
   "outputs": [],
   "source": [
    "class model(model):\n",
    "    def ff_forward(self,a):\n",
    "        \n",
    "        for i in range(1,len(layers_dims['ff'])-1):\n",
    "            w = ff_params['W'+str(i)]\n",
    "            b = ff_params['b'+str(i)]\n",
    "            #a value needs to be inherited from rnn cell output\n",
    "            z = torch.matmul(w,a)+b\n",
    "            a_next = torch.tanh(z)\n",
    "        \n",
    "        w = ff_params['W'+str(len(layers_dims['ff'])-1)]\n",
    "        b = ff_params['b'+str(len(layers_dims['ff'])-1)]\n",
    "        z = torch.matmul(w,a_next)+b\n",
    "        y_pred = torch.sigmoid(z)\n",
    "        \n",
    "        return y_pred\n",
    "\n",
    "        "
   ]
  },
  {
   "cell_type": "code",
   "execution_count": 14,
   "id": "91486df2",
   "metadata": {},
   "outputs": [
    {
     "data": {
      "text/plain": [
       "tensor([[0.8235, 0.8235, 0.8235, 0.8235, 0.8235, 0.8235, 0.8235, 0.8235, 0.8235,\n",
       "         0.8235]], dtype=torch.float64, grad_fn=<SigmoidBackward>)"
      ]
     },
     "execution_count": 14,
     "metadata": {},
     "output_type": "execute_result"
    }
   ],
   "source": [
    "test = model(learning_rate,train_x,train_y,num_epochs,layers_dims)\n",
    "ff_params,rnn_params = test.initialize_params()\n",
    "a = torch.rand(24,10,dtype = float)\n",
    "\n",
    "\n",
    "test.ff_forward(a)"
   ]
  },
  {
   "cell_type": "code",
   "execution_count": 15,
   "id": "46a5547c",
   "metadata": {},
   "outputs": [],
   "source": [
    "class model(model):\n",
    "    \n",
    "    def rnn_cell_forward(self,layer,a_prev,xt):\n",
    "        Wax = rnn_params['Wax'+str(layer)]\n",
    "        Waa = rnn_params['Waa'+str(layer)]\n",
    "        ba = rnn_params['ba'+str(layer)]\n",
    "        z = torch.matmul(Wax,xt)+torch.matmul(Waa,a_prev)+ba\n",
    "        a_next = torch.tanh(z)\n",
    "        \n",
    "        return a_next"
   ]
  },
  {
   "cell_type": "code",
   "execution_count": 16,
   "id": "bc896f3e",
   "metadata": {},
   "outputs": [
    {
     "data": {
      "text/plain": [
       "tensor([[1., 1., 1.,  ..., 1., 1., 1.],\n",
       "        [1., 1., 1.,  ..., 1., 1., 1.],\n",
       "        [1., 1., 1.,  ..., 1., 1., 1.],\n",
       "        ...,\n",
       "        [1., 1., 1.,  ..., 1., 1., 1.],\n",
       "        [1., 1., 1.,  ..., 1., 1., 1.],\n",
       "        [1., 1., 1.,  ..., 1., 1., 1.]], dtype=torch.float64,\n",
       "       grad_fn=<TanhBackward>)"
      ]
     },
     "execution_count": 16,
     "metadata": {},
     "output_type": "execute_result"
    }
   ],
   "source": [
    "test = model(learning_rate,train_x,train_y,num_epochs,layers_dims)\n",
    "ff_params,rnn_params = test.initialize_params()\n",
    "xt = train_x[:,:,23]\n",
    "a_prev = rnn_params['a01']\n",
    "layer = 1\n",
    "test.rnn_cell_forward(layer,a_prev,xt)"
   ]
  },
  {
   "cell_type": "code",
   "execution_count": 17,
   "id": "97167736",
   "metadata": {},
   "outputs": [],
   "source": [
    "class model(model):\n",
    "    \n",
    "    def forward_pass(self):\n",
    "        \n",
    "        tx = self.train_data.shape[2]\n",
    "        \n",
    "        a_next1 = rnn_params['a01']\n",
    "        a_next2 = rnn_params['a02']\n",
    "        for xt in range(tx):\n",
    "            a_next1 =  self.rnn_cell_forward(1,a_next1,train_x[:,:,xt])\n",
    "            #Wax cannot be multipied by a_next1 for 2nd layer 24x24 * 10x1910\n",
    "            #solution, square matricies. Hidden layers matches nx\n",
    "           \n",
    "            a_next2 = self.rnn_cell_forward(2,a_next2,a_next1)\n",
    "            #return values for ff layers to run through\n",
    "        y_pred = self.ff_forward(a_next2)\n",
    "        print(y_pred)\n",
    "        \n",
    "        #return y_pred = ff prop (takes in 2nd a value as x val)"
   ]
  },
  {
   "cell_type": "code",
   "execution_count": 18,
   "id": "9023f562",
   "metadata": {},
   "outputs": [
    {
     "name": "stdout",
     "output_type": "stream",
     "text": [
      "tensor([[0.8045, 0.8045, 0.8045,  ..., 0.8045, 0.8045, 0.8045]],\n",
      "       dtype=torch.float64, grad_fn=<SigmoidBackward>)\n"
     ]
    }
   ],
   "source": [
    "test = model(learning_rate,train_x,train_y,num_epochs,layers_dims)\n",
    "ff_params,rnn_params = test.initialize_params()\n",
    "test.forward_pass()\n",
    "\n",
    "\n"
   ]
  },
  {
   "cell_type": "code",
   "execution_count": 19,
   "id": "42c8b129",
   "metadata": {},
   "outputs": [
    {
     "name": "stdout",
     "output_type": "stream",
     "text": [
      "tensor([[0.8127, 0.5111, 0.9062],\n",
      "        [0.7860, 0.5888, 0.3492],\n",
      "        [0.4600, 0.4561, 0.8919],\n",
      "        [0.7765, 0.7589, 0.1656],\n",
      "        [0.5601, 0.4765, 0.9060]])\n"
     ]
    }
   ],
   "source": [
    "w = torch.rand(5,3)\n",
    "print(w)"
   ]
  },
  {
   "cell_type": "code",
   "execution_count": 20,
   "id": "fd70a3af",
   "metadata": {},
   "outputs": [
    {
     "name": "stdout",
     "output_type": "stream",
     "text": [
      "tensor([[ 0.7856,  0.1435, -0.7904],\n",
      "        [ 0.5704,  0.2707, -0.4248],\n",
      "        [-0.2174,  0.7737,  0.5865],\n",
      "        [ 0.1716,  0.4342, -0.0140],\n",
      "        [ 0.4336, -0.5035,  0.4222]])\n"
     ]
    }
   ],
   "source": [
    "w = nn.init.xavier_uniform_(w)\n",
    "print(w)"
   ]
  },
  {
   "cell_type": "code",
   "execution_count": 21,
   "id": "7bc08fad",
   "metadata": {},
   "outputs": [
    {
     "name": "stdout",
     "output_type": "stream",
     "text": [
      "{'w1': tensor([[0.6949, 0.1975, 0.2390, 0.2042],\n",
      "        [0.1335, 0.9050, 0.0642, 0.4983],\n",
      "        [0.0484, 0.2332, 0.4376, 0.1348]]), 'w2': tensor([[0.7446, 0.5333, 0.5192, 0.7687, 0.9752],\n",
      "        [0.2183, 0.7866, 0.2300, 0.0522, 0.1432],\n",
      "        [0.5145, 0.1058, 0.0573, 0.5333, 0.5345],\n",
      "        [0.0561, 0.5997, 0.7050, 0.8247, 0.6537],\n",
      "        [0.3568, 0.9738, 0.4067, 0.4280, 0.0692],\n",
      "        [0.1662, 0.4695, 0.0708, 0.0576, 0.6663],\n",
      "        [0.9076, 0.2296, 0.1046, 0.7135, 0.9525],\n",
      "        [0.7808, 0.9877, 0.0641, 0.3036, 0.8319]])}\n"
     ]
    }
   ],
   "source": [
    "params = {'w1':torch.rand(3,4),'w2':torch.rand(8,5)}\n",
    "print(params)"
   ]
  },
  {
   "cell_type": "code",
   "execution_count": 22,
   "id": "312b2ef9",
   "metadata": {},
   "outputs": [],
   "source": [
    "params['w1'] = nn.init.xavier_uniform_(params['w1'])"
   ]
  },
  {
   "cell_type": "code",
   "execution_count": 23,
   "id": "1974e708",
   "metadata": {},
   "outputs": [
    {
     "name": "stdout",
     "output_type": "stream",
     "text": [
      "{'w1': tensor([[-0.6140, -0.6079,  0.1809, -0.2050],\n",
      "        [ 0.0531,  0.5679,  0.5856,  0.4941],\n",
      "        [-0.1231, -0.5918, -0.6656, -0.4224]]), 'w2': tensor([[0.7446, 0.5333, 0.5192, 0.7687, 0.9752],\n",
      "        [0.2183, 0.7866, 0.2300, 0.0522, 0.1432],\n",
      "        [0.5145, 0.1058, 0.0573, 0.5333, 0.5345],\n",
      "        [0.0561, 0.5997, 0.7050, 0.8247, 0.6537],\n",
      "        [0.3568, 0.9738, 0.4067, 0.4280, 0.0692],\n",
      "        [0.1662, 0.4695, 0.0708, 0.0576, 0.6663],\n",
      "        [0.9076, 0.2296, 0.1046, 0.7135, 0.9525],\n",
      "        [0.7808, 0.9877, 0.0641, 0.3036, 0.8319]])}\n"
     ]
    }
   ],
   "source": [
    "print(params)"
   ]
  },
  {
   "cell_type": "code",
   "execution_count": 24,
   "id": "f39a6c79",
   "metadata": {},
   "outputs": [
    {
     "name": "stdout",
     "output_type": "stream",
     "text": [
      "tensor([[-0.6140, -0.6079,  0.1809, -0.2050],\n",
      "        [ 0.0531,  0.5679,  0.5856,  0.4941],\n",
      "        [-0.1231, -0.5918, -0.6656, -0.4224]]) torch.Size([3, 4])\n",
      "tensor([[ 0.4487,  0.3617, -0.6326, -0.7264],\n",
      "        [ 0.5749, -0.8157,  0.1597, -0.7433],\n",
      "        [-0.0945,  0.4967, -0.1029,  0.7560]]) torch.Size([3, 4])\n",
      "tensor([[0.7446, 0.5333, 0.5192, 0.7687, 0.9752],\n",
      "        [0.2183, 0.7866, 0.2300, 0.0522, 0.1432],\n",
      "        [0.5145, 0.1058, 0.0573, 0.5333, 0.5345],\n",
      "        [0.0561, 0.5997, 0.7050, 0.8247, 0.6537],\n",
      "        [0.3568, 0.9738, 0.4067, 0.4280, 0.0692],\n",
      "        [0.1662, 0.4695, 0.0708, 0.0576, 0.6663],\n",
      "        [0.9076, 0.2296, 0.1046, 0.7135, 0.9525],\n",
      "        [0.7808, 0.9877, 0.0641, 0.3036, 0.8319]]) torch.Size([8, 5])\n",
      "tensor([[ 0.4147, -0.3972, -0.2341,  0.6169, -0.4231],\n",
      "        [-0.6341, -0.0423, -0.4238, -0.0805,  0.0355],\n",
      "        [ 0.4886,  0.4583,  0.2248,  0.0619,  0.2203],\n",
      "        [-0.2193, -0.4814,  0.1379,  0.1414,  0.2253],\n",
      "        [-0.4011, -0.0355,  0.5021, -0.5076, -0.6444],\n",
      "        [ 0.0725, -0.3006, -0.2648, -0.2796,  0.5534],\n",
      "        [-0.1488,  0.4117,  0.4827,  0.5340,  0.3876],\n",
      "        [ 0.3962, -0.5691,  0.1065, -0.3202, -0.5490]]) torch.Size([8, 5])\n"
     ]
    }
   ],
   "source": [
    "for k,v in params.items():\n",
    "    print(params[k],params[k].shape)\n",
    "    params[k] = nn.init.xavier_uniform_(params[k])\n",
    "    print(params[k],params[k].shape)"
   ]
  },
  {
   "cell_type": "markdown",
   "id": "446401d3",
   "metadata": {},
   "source": [
    "##### Experimenting with vectorized false positive and accuracy implementations"
   ]
  },
  {
   "cell_type": "code",
   "execution_count": 25,
   "id": "7cf71b00",
   "metadata": {},
   "outputs": [
    {
     "name": "stdout",
     "output_type": "stream",
     "text": [
      "tensor([[1., 1., 1., 0., 1., 1., 1., 1., 1., 1., 0., 1., 0., 0., 1., 1., 0., 0.,\n",
      "         1., 1., 0., 1., 1., 1.]])\n",
      "tensor([[0.0092, 0.6231, 0.5359, 0.3593, 0.4444, 0.2502, 0.0843, 0.3146, 0.6527,\n",
      "         0.7774, 0.0716, 0.1799, 0.1980, 0.0622, 0.1765, 0.7221, 0.5847, 0.7088,\n",
      "         0.9482, 0.1248, 0.4708, 0.6842, 0.6301, 0.3534]])\n",
      "<class 'torch.Tensor'>\n"
     ]
    }
   ],
   "source": [
    "y_pred = torch.rand(1,24)\n",
    "y = torch.rand(1,24)\n",
    "y = torch.bernoulli(y)\n",
    "print(y)\n",
    "print(y_pred)\n",
    "print(type(y_pred))"
   ]
  },
  {
   "cell_type": "code",
   "execution_count": 26,
   "id": "5318d95c",
   "metadata": {},
   "outputs": [
    {
     "name": "stdout",
     "output_type": "stream",
     "text": [
      "tensor([[0.0000, 0.6000, 0.5000, 0.4000, 0.4000, 0.3000, 0.1000, 0.3000, 0.7000,\n",
      "         0.8000, 0.1000, 0.2000, 0.2000, 0.1000, 0.2000, 0.7000, 0.6000, 0.7000,\n",
      "         0.9000, 0.1000, 0.5000, 0.7000, 0.6000, 0.4000]])\n",
      "tensor([[0, 0, 0, 0, 0, 0, 0, 0, 1, 0, 0, 0, 0, 0, 0, 1, 0, 1, 0, 0, 0, 1, 0, 0]])\n"
     ]
    }
   ],
   "source": [
    "print(np.round(y_pred,1))\n",
    "\n",
    "y_pred = torch.where(np.round(y_pred,1)==.7,1,0)\n",
    "print(y_pred)"
   ]
  },
  {
   "cell_type": "code",
   "execution_count": 27,
   "id": "03e6f278",
   "metadata": {},
   "outputs": [
    {
     "name": "stdout",
     "output_type": "stream",
     "text": [
      "[[0 0 0 0 0 0 0 0 0 0 0 0 0 0 0 0 0 1 0 0 0 0 0 0]]\n"
     ]
    }
   ],
   "source": [
    "#checking for false positive\n",
    "test = np.where((y==0) & (y_pred==1),1,0)\n",
    "print(test)"
   ]
  },
  {
   "cell_type": "code",
   "execution_count": 28,
   "id": "7c3c9a49",
   "metadata": {},
   "outputs": [
    {
     "name": "stdout",
     "output_type": "stream",
     "text": [
      "[0.04166667]\n"
     ]
    }
   ],
   "source": [
    "test2 = np.sum(test,axis=1)\n",
    "print(test2/24)"
   ]
  },
  {
   "cell_type": "code",
   "execution_count": 29,
   "id": "8b9e8b33",
   "metadata": {},
   "outputs": [
    {
     "name": "stdout",
     "output_type": "stream",
     "text": [
      "[[0 0 0 0 0 0 0 0 1 0 0 0 0 0 0 1 0 0 0 0 0 1 0 0]]\n"
     ]
    }
   ],
   "source": [
    "#checking for true positive\n",
    "test3 = np.where((y==1) & (y_pred ==1),1,0)\n",
    "print(test3)"
   ]
  },
  {
   "cell_type": "code",
   "execution_count": null,
   "id": "e7c98531",
   "metadata": {},
   "outputs": [],
   "source": []
  }
 ],
 "metadata": {
  "kernelspec": {
   "display_name": "Python 3",
   "language": "python",
   "name": "python3"
  },
  "language_info": {
   "codemirror_mode": {
    "name": "ipython",
    "version": 3
   },
   "file_extension": ".py",
   "mimetype": "text/x-python",
   "name": "python",
   "nbconvert_exporter": "python",
   "pygments_lexer": "ipython3",
   "version": "3.9.2"
  }
 },
 "nbformat": 4,
 "nbformat_minor": 5
}
